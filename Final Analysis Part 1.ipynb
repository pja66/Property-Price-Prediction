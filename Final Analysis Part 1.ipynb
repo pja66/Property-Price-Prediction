{
 "cells": [
  {
   "cell_type": "markdown",
   "metadata": {
    "id": "qt1n0SCOxNkG"
   },
   "source": [
    "# Data Input"
   ]
  },
  {
   "cell_type": "code",
   "execution_count": 1,
   "metadata": {
    "id": "IAdiC4CQvphm"
   },
   "outputs": [],
   "source": [
    "#Libraries\n",
    "import pandas as pd\n",
    "import collections\n",
    "import numpy as np\n",
    "import matplotlib.pyplot as plt\n",
    "import statsmodels.api as sm\n",
    "from sklearn.model_selection import train_test_split\n",
    "from sklearn.metrics import roc_auc_score\n",
    "from sklearn.model_selection import cross_val_score\n",
    "from sklearn.metrics import make_scorer\n",
    "from sklearn.linear_model import LogisticRegressionCV\n",
    "from sklearn.metrics import accuracy_score\n",
    "from sklearn.model_selection import KFold\n",
    "from sklearn.metrics import confusion_matrix\n",
    "import seaborn as sns\n",
    "from sklearn.ensemble import RandomForestRegressor\n",
    "from sklearn.ensemble import GradientBoostingRegressor\n",
    "from sklearn.model_selection import KFold\n",
    "from sklearn.linear_model import LinearRegression\n",
    "from sklearn.linear_model import LogisticRegression\n",
    "from sklearn.metrics import mean_squared_log_error"
   ]
  },
  {
   "cell_type": "code",
   "execution_count": 132,
   "metadata": {
    "colab": {
     "base_uri": "https://localhost:8080/",
     "height": 249
    },
    "id": "aCQveEBevpho",
    "outputId": "e277f4e1-2255-4b40-f808-b9515c1a0cf3"
   },
   "outputs": [
    {
     "data": {
      "text/html": [
       "<div>\n",
       "<style scoped>\n",
       "    .dataframe tbody tr th:only-of-type {\n",
       "        vertical-align: middle;\n",
       "    }\n",
       "\n",
       "    .dataframe tbody tr th {\n",
       "        vertical-align: top;\n",
       "    }\n",
       "\n",
       "    .dataframe thead th {\n",
       "        text-align: right;\n",
       "    }\n",
       "</style>\n",
       "<table border=\"1\" class=\"dataframe\">\n",
       "  <thead>\n",
       "    <tr style=\"text-align: right;\">\n",
       "      <th></th>\n",
       "      <th>Id</th>\n",
       "      <th>MSSubClass</th>\n",
       "      <th>MSZoning</th>\n",
       "      <th>LotFrontage</th>\n",
       "      <th>LotArea</th>\n",
       "      <th>Street</th>\n",
       "      <th>Alley</th>\n",
       "      <th>LotShape</th>\n",
       "      <th>LandContour</th>\n",
       "      <th>Utilities</th>\n",
       "      <th>...</th>\n",
       "      <th>PoolArea</th>\n",
       "      <th>PoolQC</th>\n",
       "      <th>Fence</th>\n",
       "      <th>MiscFeature</th>\n",
       "      <th>MiscVal</th>\n",
       "      <th>MoSold</th>\n",
       "      <th>YrSold</th>\n",
       "      <th>SaleType</th>\n",
       "      <th>SaleCondition</th>\n",
       "      <th>SalePrice</th>\n",
       "    </tr>\n",
       "  </thead>\n",
       "  <tbody>\n",
       "    <tr>\n",
       "      <th>0</th>\n",
       "      <td>1</td>\n",
       "      <td>60</td>\n",
       "      <td>RL</td>\n",
       "      <td>65.0</td>\n",
       "      <td>8450</td>\n",
       "      <td>Pave</td>\n",
       "      <td>NaN</td>\n",
       "      <td>Reg</td>\n",
       "      <td>Lvl</td>\n",
       "      <td>AllPub</td>\n",
       "      <td>...</td>\n",
       "      <td>0</td>\n",
       "      <td>NaN</td>\n",
       "      <td>NaN</td>\n",
       "      <td>NaN</td>\n",
       "      <td>0</td>\n",
       "      <td>2</td>\n",
       "      <td>2008</td>\n",
       "      <td>WD</td>\n",
       "      <td>Normal</td>\n",
       "      <td>208500</td>\n",
       "    </tr>\n",
       "    <tr>\n",
       "      <th>1</th>\n",
       "      <td>2</td>\n",
       "      <td>20</td>\n",
       "      <td>RL</td>\n",
       "      <td>80.0</td>\n",
       "      <td>9600</td>\n",
       "      <td>Pave</td>\n",
       "      <td>NaN</td>\n",
       "      <td>Reg</td>\n",
       "      <td>Lvl</td>\n",
       "      <td>AllPub</td>\n",
       "      <td>...</td>\n",
       "      <td>0</td>\n",
       "      <td>NaN</td>\n",
       "      <td>NaN</td>\n",
       "      <td>NaN</td>\n",
       "      <td>0</td>\n",
       "      <td>5</td>\n",
       "      <td>2007</td>\n",
       "      <td>WD</td>\n",
       "      <td>Normal</td>\n",
       "      <td>181500</td>\n",
       "    </tr>\n",
       "    <tr>\n",
       "      <th>2</th>\n",
       "      <td>3</td>\n",
       "      <td>60</td>\n",
       "      <td>RL</td>\n",
       "      <td>68.0</td>\n",
       "      <td>11250</td>\n",
       "      <td>Pave</td>\n",
       "      <td>NaN</td>\n",
       "      <td>IR1</td>\n",
       "      <td>Lvl</td>\n",
       "      <td>AllPub</td>\n",
       "      <td>...</td>\n",
       "      <td>0</td>\n",
       "      <td>NaN</td>\n",
       "      <td>NaN</td>\n",
       "      <td>NaN</td>\n",
       "      <td>0</td>\n",
       "      <td>9</td>\n",
       "      <td>2008</td>\n",
       "      <td>WD</td>\n",
       "      <td>Normal</td>\n",
       "      <td>223500</td>\n",
       "    </tr>\n",
       "    <tr>\n",
       "      <th>3</th>\n",
       "      <td>4</td>\n",
       "      <td>70</td>\n",
       "      <td>RL</td>\n",
       "      <td>60.0</td>\n",
       "      <td>9550</td>\n",
       "      <td>Pave</td>\n",
       "      <td>NaN</td>\n",
       "      <td>IR1</td>\n",
       "      <td>Lvl</td>\n",
       "      <td>AllPub</td>\n",
       "      <td>...</td>\n",
       "      <td>0</td>\n",
       "      <td>NaN</td>\n",
       "      <td>NaN</td>\n",
       "      <td>NaN</td>\n",
       "      <td>0</td>\n",
       "      <td>2</td>\n",
       "      <td>2006</td>\n",
       "      <td>WD</td>\n",
       "      <td>Abnorml</td>\n",
       "      <td>140000</td>\n",
       "    </tr>\n",
       "    <tr>\n",
       "      <th>4</th>\n",
       "      <td>5</td>\n",
       "      <td>60</td>\n",
       "      <td>RL</td>\n",
       "      <td>84.0</td>\n",
       "      <td>14260</td>\n",
       "      <td>Pave</td>\n",
       "      <td>NaN</td>\n",
       "      <td>IR1</td>\n",
       "      <td>Lvl</td>\n",
       "      <td>AllPub</td>\n",
       "      <td>...</td>\n",
       "      <td>0</td>\n",
       "      <td>NaN</td>\n",
       "      <td>NaN</td>\n",
       "      <td>NaN</td>\n",
       "      <td>0</td>\n",
       "      <td>12</td>\n",
       "      <td>2008</td>\n",
       "      <td>WD</td>\n",
       "      <td>Normal</td>\n",
       "      <td>250000</td>\n",
       "    </tr>\n",
       "  </tbody>\n",
       "</table>\n",
       "<p>5 rows × 81 columns</p>\n",
       "</div>"
      ],
      "text/plain": [
       "   Id  MSSubClass MSZoning  LotFrontage  LotArea Street Alley LotShape  \\\n",
       "0   1          60       RL         65.0     8450   Pave   NaN      Reg   \n",
       "1   2          20       RL         80.0     9600   Pave   NaN      Reg   \n",
       "2   3          60       RL         68.0    11250   Pave   NaN      IR1   \n",
       "3   4          70       RL         60.0     9550   Pave   NaN      IR1   \n",
       "4   5          60       RL         84.0    14260   Pave   NaN      IR1   \n",
       "\n",
       "  LandContour Utilities  ... PoolArea PoolQC Fence MiscFeature MiscVal MoSold  \\\n",
       "0         Lvl    AllPub  ...        0    NaN   NaN         NaN       0      2   \n",
       "1         Lvl    AllPub  ...        0    NaN   NaN         NaN       0      5   \n",
       "2         Lvl    AllPub  ...        0    NaN   NaN         NaN       0      9   \n",
       "3         Lvl    AllPub  ...        0    NaN   NaN         NaN       0      2   \n",
       "4         Lvl    AllPub  ...        0    NaN   NaN         NaN       0     12   \n",
       "\n",
       "  YrSold  SaleType  SaleCondition  SalePrice  \n",
       "0   2008        WD         Normal     208500  \n",
       "1   2007        WD         Normal     181500  \n",
       "2   2008        WD         Normal     223500  \n",
       "3   2006        WD        Abnorml     140000  \n",
       "4   2008        WD         Normal     250000  \n",
       "\n",
       "[5 rows x 81 columns]"
      ]
     },
     "execution_count": 132,
     "metadata": {},
     "output_type": "execute_result"
    }
   ],
   "source": [
    "#Import Data\n",
    "data = pd.read_csv('train.csv')\n",
    "data.head()"
   ]
  },
  {
   "cell_type": "markdown",
   "metadata": {
    "id": "zzBOZCM2vphp"
   },
   "source": [
    "# Prelimaniry Analysis"
   ]
  },
  {
   "cell_type": "code",
   "execution_count": 133,
   "metadata": {
    "id": "svQZsh5tvphq"
   },
   "outputs": [],
   "source": [
    "#Columns and Column Values\n",
    "real_valued_cols= ['LotFrontage', 'LotArea', 'YearBuilt',\n",
    "                   'YearRemodAdd', 'MasVnrArea', 'BsmtFinSF1',\n",
    "                   'BsmtFinSF2', 'BsmtUnfSF', 'TotalBsmtSF',\n",
    "                   '1stFlrSF', '2ndFlrSF', 'LowQualFinSF',\n",
    "                   'GrLivArea', 'BsmtFullBath', 'BsmtHalfBath',\n",
    "                   'FullBath', 'HalfBath', 'BedroomAbvGr', \n",
    "                   'KitchenAbvGr', 'TotRmsAbvGrd', 'Fireplaces',\n",
    "                   'GarageCars', 'GarageArea', 'WoodDeckSF',\n",
    "                   'OpenPorchSF', 'EnclosedPorch', '3SsnPorch',\n",
    "                   'ScreenPorch', 'PoolArea', 'MiscVal', 'MoSold',\n",
    "                   'YrSold']\n",
    "\n",
    "categorical_valued_cols = ['MSSubClass', 'MSZoning', 'Street', \n",
    "                           'Alley', 'LotShape', 'LandContour', \n",
    "                           'Utilities', 'LotConfig', 'LandSlope',\n",
    "                           'Neighborhood', 'Condition1', \n",
    "                           'Condition2', 'BldgType', \n",
    "                           'HouseStyle', 'RoofStyle', 'RoofMatl',\n",
    "                           'Exterior1st', 'Exterior2nd',\n",
    "                           'Foundation', 'BsmtFinType1',\n",
    "                           'BsmtFinType2', 'Heating',\n",
    "                           'Electrical', 'MiscFeature',\n",
    "                           'SaleType', 'SaleCondition']\n",
    "\n",
    "ordinal_valued_cols = ['OverallQual', 'OverallCond', 'ExterQual',\n",
    "                       'ExterCond', 'BsmtQual', 'BsmtCond',\n",
    "                       'BsmtExposure', 'HeatingQC', 'KitchenQual',\n",
    "                       'Functional', 'FireplaceQu', 'GarageType',\n",
    "                       'GarageFinish', 'GarageQual', 'GarageCond',\n",
    "                       'PavedDrive', 'PoolQC', 'Fence']\n",
    "\n",
    "boolean_valued_cols = ['CentralAir']\n",
    "\n",
    "#Ordered from least to greatest\n",
    "ordinal_cols_values = {'OverallQual': [1,2,3,4,5,6,7,8,9,10], \n",
    "                         'OverallCond': [1,2,3,4,5,6,7,8,9,10], \n",
    "                         'ExterQual': ['nan','Po', 'Fa', 'TA', 'Gd', 'Ex'],\n",
    "                         'ExterCond': ['nan','Po', 'Fa', 'TA', 'Gd', 'Ex'],\n",
    "                         'BsmtQual': ['nan', 'Fa','TA', 'Gd','Ex'],\n",
    "                         'BsmtCond': ['nan', 'Po', 'Fa', 'TA', 'Gd'],\n",
    "                         'BsmtExposure': ['nan', 'No', 'Mn', 'Av','Gd'],\n",
    "                         'HeatingQC': ['nan','Po', 'Fa', 'TA', 'Gd', 'Ex'],\n",
    "                         'KitchenQual': ['nan','Po', 'Fa', 'TA', 'Gd', 'Ex'],\n",
    "                         'Functional': ['nan','Sal', 'Sev', 'Maj2', 'Maj1', 'Mod', 'Min2', 'Min1', 'Typ'],\n",
    "                         'FireplaceQu': ['nan', 'Po', 'Fa', 'TA', 'Gd', 'Ex'],\n",
    "                         'GarageType': ['nan', 'Detchd', 'CarPort', 'BuiltIn', 'Basment', 'Attchd', '2Types'],\n",
    "                         'GarageFinish': ['nan', 'Unf', 'RFn', 'Fin'],\n",
    "                         'GarageQual': ['nan', 'Po', 'Fa', 'TA', 'Gd', 'Ex'],\n",
    "                         'GarageCond': ['nan', 'Po', 'Fa', 'TA', 'Gd', 'Ex'],\n",
    "                         'PavedDrive': ['nan','N', 'P', 'Y'],\n",
    "                         'PoolQC': ['nan', 'Fa', 'TA', 'Gd', 'Ex'],\n",
    "                         'Fence': ['nan', 'MnWw', 'GdWo', 'MnPrv', 'GdPrv']}\n",
    "\n",
    "cat_cols_values = {'MSSubClass':[60,  20,  70,  50, 190,  45,  90, 120,  30,  85,  80, 160,  75, 180,  40] , \n",
    "                      'MSZoning': ['nan','RL', 'RM', 'C (all)', 'FV', 'RH'], \n",
    "                      'Street': ['Pave', 'Grvl'], \n",
    "                      'Alley': ['nan', 'Grvl', 'Pave'], \n",
    "                      'LotShape': ['Reg', 'IR1', 'IR2', 'IR3'], \n",
    "                      'LandContour': ['Lvl', 'Bnk', 'Low', 'HLS'], \n",
    "                      'Utilities': ['AllPub', 'NoSeWa'], \n",
    "                      'LotConfig': ['Inside', 'FR2', 'Corner', 'CulDSac', 'FR3'], \n",
    "                      'LandSlope': ['Gtl', 'Mod', 'Sev'],\n",
    "                      'Neighborhood': ['CollgCr', 'Veenker', 'Crawfor', 'NoRidge', 'Mitchel', 'Somerst',\n",
    "                                       'NWAmes', 'OldTown', 'BrkSide', 'Sawyer', 'NridgHt', 'NAmes',\n",
    "                                       'SawyerW', 'IDOTRR', 'MeadowV', 'Edwards', 'Timber', 'Gilbert',\n",
    "                                       'StoneBr', 'ClearCr', 'NPkVill', 'Blmngtn', 'BrDale', 'SWISU',\n",
    "                                       'Blueste'], \n",
    "                      'Condition1': ['Norm', 'Feedr', 'PosN', 'Artery', 'RRAe', 'RRNn', 'RRAn', 'PosA','RRNe'], \n",
    "                      'Condition2': ['Norm', 'Artery', 'RRNn', 'Feedr', 'PosN', 'PosA', 'RRAn', 'RRAe'], \n",
    "                      'BldgType' : ['1Fam', '2fmCon', 'Duplex', 'TwnhsE', 'Twnhs'], \n",
    "                      'HouseStyle': ['2Story', '1Story', '1.5Fin', '1.5Unf', 'SFoyer', 'SLvl', '2.5Unf','2.5Fin'], \n",
    "                      'RoofStyle': ['Gable', 'Hip', 'Gambrel', 'Mansard', 'Flat', 'Shed'], \n",
    "                      'RoofMatl': ['CompShg', 'WdShngl', 'Metal', 'WdShake', 'Membran', 'Tar&Grv','Roll', 'ClyTile'],\n",
    "                      'Exterior1st': ['VinylSd', 'MetalSd', 'Wd Sdng', 'HdBoard', 'BrkFace', 'WdShing','CemntBd', \n",
    "                                      'Plywood', 'AsbShng', 'Stucco', 'BrkComm', 'AsphShn',\n",
    "                                      'Stone', 'ImStucc', 'CBlock'], \n",
    "                      'Exterior2nd': ['VinylSd', 'MetalSd', 'Wd Shng', 'HdBoard', 'Plywood', 'Wd Sdng',\n",
    "                                       'CmentBd', 'BrkFace', 'Stucco', 'AsbShng', 'Brk Cmn', 'ImStucc',\n",
    "                                       'AsphShn', 'Stone', 'Other', 'CBlock'],\n",
    "                      'Foundation': ['PConc', 'CBlock', 'BrkTil', 'Wood', 'Slab', 'Stone'], \n",
    "                      'BsmtFinType1': ['GLQ', 'ALQ', 'Unf', 'Rec', 'BLQ', 'nan', 'LwQ'],\n",
    "                      'BsmtFinType2': ['Unf', 'BLQ', 'nan', 'ALQ', 'Rec', 'LwQ', 'GLQ'], \n",
    "                      'Heating':['GasA', 'GasW', 'Grav', 'Wall', 'OthW', 'Floor'],\n",
    "                      'Electrical': ['SBrkr', 'FuseF', 'FuseA', 'FuseP', 'Mix', 'nan'], \n",
    "                      'MiscFeature': ['nan', 'Shed', 'Gar2', 'Othr', 'TenC'],\n",
    "                      'SaleType': ['WD', 'New', 'COD', 'ConLD', 'ConLI', 'CWD', 'ConLw', 'Con', 'Oth'], \n",
    "                      'SaleCondition': ['Normal', 'Abnorml', 'Partial', 'AdjLand', 'Alloca', 'Family']} "
   ]
  },
  {
   "cell_type": "code",
   "execution_count": 134,
   "metadata": {
    "colab": {
     "base_uri": "https://localhost:8080/"
    },
    "id": "nKMzFD_Tvphs",
    "outputId": "f94bd50a-f5ef-44c0-81dd-f65f5a2291b2"
   },
   "outputs": [
    {
     "name": "stdout",
     "output_type": "stream",
     "text": [
      "267\n"
     ]
    }
   ],
   "source": [
    "#Corrupted/Missing values for real_valued_cols\n",
    "def corruptvaluesCNT(col):\n",
    "    cnt = np.isinf(data[col]).values.sum()\n",
    "    cnt += np.isnan(data[col]).values.sum()\n",
    "    cnt +=  data[col][data[col] < 0].count()\n",
    "    return cnt \n",
    "\n",
    "totalSum = 0\n",
    "for i in real_valued_cols:\n",
    "    totalSum += corruptvaluesCNT(i)\n",
    "    \n",
    "print(totalSum)\n"
   ]
  },
  {
   "cell_type": "markdown",
   "metadata": {
    "id": "SDbBYxLBvphs"
   },
   "source": [
    "# Data Analysis/Insights"
   ]
  },
  {
   "cell_type": "code",
   "execution_count": 135,
   "metadata": {
    "colab": {
     "base_uri": "https://localhost:8080/",
     "height": 69
    },
    "id": "O4eGuB_cvpht",
    "outputId": "bc50a5b7-230f-4618-9e35-46292da3dda1"
   },
   "outputs": [
    {
     "data": {
      "image/png": "[encoded data removed]",
      "text/plain": [
       "<Figure size 432x288 with 1 Axes>"
      ]
     },
     "metadata": {
      "needs_background": "light"
     },
     "output_type": "display_data"
    },
    {
     "name": "stdout",
     "output_type": "stream",
     "text": [
      "There are no negative values in the sales column:  True\n"
     ]
    }
   ],
   "source": [
    "#Y Histogram\n",
    "y = data['SalePrice']\n",
    "plt.hist(y)\n",
    "plt.title('Hist of Price column')\n",
    "plt.xlabel('House Price')\n",
    "plt.ylabel('Count')\n",
    "plt.show()\n",
    "\n",
    "#Checking Regression Column\n",
    "y = data[data['SalePrice']<0].shape\n",
    "print(\"There are no negative values in the sales column: \", y[0]==0)"
   ]
  },
  {
   "cell_type": "code",
   "execution_count": 136,
   "metadata": {
    "colab": {
     "base_uri": "https://localhost:8080/"
    },
    "id": "mDcdMeJ5vphu",
    "outputId": "151c7168-0071-47e1-ad00-96749fc7e887"
   },
   "outputs": [
    {
     "name": "stdout",
     "output_type": "stream",
     "text": [
      "Stats for column LotFrontage:\n",
      "Mean: 70.04995836802665\n",
      "Standard Deviation: 24.284751774483183\n",
      "Median: 69.0\n",
      "Stats for column LotArea:\n",
      "Mean: 10516.828082191782\n",
      "Standard Deviation: 9981.264932379147\n",
      "Median: 9478.5\n",
      "Stats for column YearBuilt:\n",
      "Mean: 1971.267808219178\n",
      "Standard Deviation: 30.202904042525265\n",
      "Median: 1973.0\n",
      "Stats for column YearRemodAdd:\n",
      "Mean: 1984.8657534246574\n",
      "Standard Deviation: 20.645406807709396\n",
      "Median: 1994.0\n",
      "Stats for column MasVnrArea:\n",
      "Mean: 103.68526170798899\n",
      "Standard Deviation: 181.06620658721818\n",
      "Median: 0.0\n",
      "Stats for column BsmtFinSF1:\n",
      "Mean: 443.6397260273973\n",
      "Standard Deviation: 456.09809084092456\n",
      "Median: 383.5\n",
      "Stats for column BsmtFinSF2:\n",
      "Mean: 46.54931506849315\n",
      "Standard Deviation: 161.31927280654057\n",
      "Median: 0.0\n",
      "Stats for column BsmtUnfSF:\n",
      "Mean: 567.2404109589041\n",
      "Standard Deviation: 441.8669552924342\n",
      "Median: 477.5\n",
      "Stats for column TotalBsmtSF:\n",
      "Mean: 1057.4294520547944\n",
      "Standard Deviation: 438.7053244594705\n",
      "Median: 991.5\n",
      "Stats for column 1stFlrSF:\n",
      "Mean: 1162.626712328767\n",
      "Standard Deviation: 386.5877380410738\n",
      "Median: 1087.0\n",
      "Stats for column 2ndFlrSF:\n",
      "Mean: 346.99246575342465\n",
      "Standard Deviation: 436.5284358862591\n",
      "Median: 0.0\n",
      "Stats for column LowQualFinSF:\n",
      "Mean: 5.844520547945206\n",
      "Standard Deviation: 48.623081433519125\n",
      "Median: 0.0\n",
      "Stats for column GrLivArea:\n",
      "Mean: 1515.463698630137\n",
      "Standard Deviation: 525.4803834232027\n",
      "Median: 1464.0\n",
      "Stats for column BsmtFullBath:\n",
      "Mean: 0.42534246575342466\n",
      "Standard Deviation: 0.5189106060897992\n",
      "Median: 0.0\n",
      "Stats for column BsmtHalfBath:\n",
      "Mean: 0.057534246575342465\n",
      "Standard Deviation: 0.23875264627920764\n",
      "Median: 0.0\n",
      "Stats for column FullBath:\n",
      "Mean: 1.5650684931506849\n",
      "Standard Deviation: 0.5509158012954318\n",
      "Median: 2.0\n",
      "Stats for column HalfBath:\n",
      "Mean: 0.38287671232876713\n",
      "Standard Deviation: 0.5028853810928973\n",
      "Median: 0.0\n",
      "Stats for column BedroomAbvGr:\n",
      "Mean: 2.8664383561643834\n",
      "Standard Deviation: 0.8157780441442212\n",
      "Median: 3.0\n",
      "Stats for column KitchenAbvGr:\n",
      "Mean: 1.0465753424657533\n",
      "Standard Deviation: 0.22033819838402977\n",
      "Median: 1.0\n",
      "Stats for column TotRmsAbvGrd:\n",
      "Mean: 6.517808219178082\n",
      "Standard Deviation: 1.625393290584064\n",
      "Median: 6.0\n",
      "Stats for column Fireplaces:\n",
      "Mean: 0.613013698630137\n",
      "Standard Deviation: 0.6446663863122344\n",
      "Median: 1.0\n",
      "Stats for column GarageCars:\n",
      "Mean: 1.7671232876712328\n",
      "Standard Deviation: 0.7473150101111116\n",
      "Median: 2.0\n",
      "Stats for column GarageArea:\n",
      "Mean: 472.9801369863014\n",
      "Standard Deviation: 213.80484145338076\n",
      "Median: 480.0\n",
      "Stats for column WoodDeckSF:\n",
      "Mean: 94.2445205479452\n",
      "Standard Deviation: 125.33879435172359\n",
      "Median: 0.0\n",
      "Stats for column OpenPorchSF:\n",
      "Mean: 46.66027397260274\n",
      "Standard Deviation: 66.25602767664974\n",
      "Median: 25.0\n",
      "Stats for column EnclosedPorch:\n",
      "Mean: 21.954109589041096\n",
      "Standard Deviation: 61.11914860172879\n",
      "Median: 0.0\n",
      "Stats for column 3SsnPorch:\n",
      "Mean: 3.4095890410958902\n",
      "Standard Deviation: 29.317330556782203\n",
      "Median: 0.0\n",
      "Stats for column ScreenPorch:\n",
      "Mean: 15.060958904109588\n",
      "Standard Deviation: 55.757415281874486\n",
      "Median: 0.0\n",
      "Stats for column PoolArea:\n",
      "Mean: 2.758904109589041\n",
      "Standard Deviation: 40.17730694453043\n",
      "Median: 0.0\n",
      "Stats for column MiscVal:\n",
      "Mean: 43.489041095890414\n",
      "Standard Deviation: 496.1230244579311\n",
      "Median: 0.0\n",
      "Stats for column MoSold:\n",
      "Mean: 6.321917808219178\n",
      "Standard Deviation: 2.7036262083595197\n",
      "Median: 6.0\n",
      "Stats for column YrSold:\n",
      "Mean: 2007.8157534246575\n",
      "Standard Deviation: 1.328095120552104\n",
      "Median: 2008.0\n"
     ]
    }
   ],
   "source": [
    "for c in real_valued_cols:\n",
    "    print(\"Stats for column {}:\".format(c))\n",
    "    col = data[c]\n",
    "    print(\"Mean: {}\".format(col.mean()))\n",
    "    print(\"Standard Deviation: {}\".format(col.std()))\n",
    "    print(\"Median: {}\".format(col.median()))"
   ]
  },
  {
   "cell_type": "markdown",
   "metadata": {
    "id": "PP0b25hHvphv"
   },
   "source": [
    "# PreProccessing: \n",
    "* Handle NaN's\n",
    "* Change boolean values to Ints\n",
    "* Hot encode categorical data\n",
    "* Change Ordinal Values to integers \n",
    "* Concatenate all values together\n",
    "* Standarization OF Data"
   ]
  },
  {
   "cell_type": "code",
   "execution_count": 137,
   "metadata": {
    "id": "sYn_48hZvphw"
   },
   "outputs": [],
   "source": [
    "#Handle Nan's\n",
    "data.loc[:, data.columns.isin(real_valued_cols)] = data.loc[:, data.columns.isin(real_valued_cols)].replace(np.nan, 0, regex=True)\n",
    "data = data.replace(np.nan,'nan',regex=True)"
   ]
  },
  {
   "cell_type": "code",
   "execution_count": 138,
   "metadata": {
    "colab": {
     "base_uri": "https://localhost:8080/"
    },
    "id": "zgaI5wxwvphw",
    "outputId": "70be8557-e85c-435b-a856-96b90fffd150"
   },
   "outputs": [
    {
     "name": "stdout",
     "output_type": "stream",
     "text": [
      "(1460, 1)\n"
     ]
    }
   ],
   "source": [
    "#Boolean\n",
    "def booleanMap(x):\n",
    "    if x == 'Y': \n",
    "        return 1 \n",
    "    return 0\n",
    "\n",
    "boolTemp = data.loc[:, data.columns.isin(boolean_valued_cols)].applymap(booleanMap)\n",
    "print(boolTemp.shape)"
   ]
  },
  {
   "cell_type": "code",
   "execution_count": 139,
   "metadata": {
    "colab": {
     "base_uri": "https://localhost:8080/"
    },
    "id": "wG-U4d3Lvphw",
    "outputId": "ad18827e-0a13-4e82-dc4e-16370ea0c912"
   },
   "outputs": [
    {
     "name": "stdout",
     "output_type": "stream",
     "text": [
      "(1460, 196)\n"
     ]
    }
   ],
   "source": [
    "#Categorical\n",
    "def onehot(column=None, col=None):\n",
    "  map = {}\n",
    "  for j in range(len(col)):\n",
    "    map[col[j]] = j\n",
    "\n",
    "  lst = []\n",
    "  for i in range(len(column)):\n",
    "    array = np.zeros(len(col))\n",
    "    if column.iloc[i] in map:\n",
    "      array[map.get(column.iloc[i])] = 1\n",
    "    lst.append(array)\n",
    "  return np.array(lst)\n",
    "\n",
    "catTemp = onehot(data['MSSubClass'], cat_cols_values['MSSubClass'])\n",
    "for i in categorical_valued_cols[1:]:\n",
    "    catTemp = np.concatenate((onehot(data[i], cat_cols_values[i]), catTemp), axis = 1)\n",
    "print(catTemp.shape)"
   ]
  },
  {
   "cell_type": "code",
   "execution_count": 140,
   "metadata": {
    "colab": {
     "base_uri": "https://localhost:8080/"
    },
    "id": "IxYfHOv1vphx",
    "outputId": "6705b744-1a8f-4856-8f18-63496381419b"
   },
   "outputs": [
    {
     "name": "stdout",
     "output_type": "stream",
     "text": [
      "(1460, 18)\n"
     ]
    }
   ],
   "source": [
    "#Ordinial\n",
    "def ordinialToInt(column=None, col=None):\n",
    "    map = {}\n",
    "    for j in range(len(col)):\n",
    "        map[col[j]] = j\n",
    "    \n",
    "    temp = np.zeros((column.shape[0], 1))\n",
    "        \n",
    "    for i in range(len(column)):\n",
    "        temp[i] = map[column[i]]\n",
    "    return temp\n",
    "\n",
    "ordTemp = ordinialToInt(data['OverallQual'], ordinal_cols_values['OverallQual'])\n",
    "for i in ordinal_valued_cols[1:]:\n",
    "    ordTemp = np.concatenate((ordTemp, ordinialToInt(data[i], ordinal_cols_values[i])), axis =1)\n",
    "    \n",
    "print(ordTemp.shape)"
   ]
  },
  {
   "cell_type": "code",
   "execution_count": 141,
   "metadata": {
    "colab": {
     "base_uri": "https://localhost:8080/",
     "height": 348
    },
    "id": "cUnxbZOKvphx",
    "outputId": "c6b0bee8-06e4-4b4a-b92f-c3fc8b60eeac"
   },
   "outputs": [
    {
     "name": "stdout",
     "output_type": "stream",
     "text": [
      "(1460, 247)\n",
      "Test to check nan and inf values:  0\n"
     ]
    },
    {
     "data": {
      "text/html": [
       "<div>\n",
       "<style scoped>\n",
       "    .dataframe tbody tr th:only-of-type {\n",
       "        vertical-align: middle;\n",
       "    }\n",
       "\n",
       "    .dataframe tbody tr th {\n",
       "        vertical-align: top;\n",
       "    }\n",
       "\n",
       "    .dataframe thead th {\n",
       "        text-align: right;\n",
       "    }\n",
       "</style>\n",
       "<table border=\"1\" class=\"dataframe\">\n",
       "  <thead>\n",
       "    <tr style=\"text-align: right;\">\n",
       "      <th></th>\n",
       "      <th>0</th>\n",
       "      <th>1</th>\n",
       "      <th>2</th>\n",
       "      <th>3</th>\n",
       "      <th>4</th>\n",
       "      <th>5</th>\n",
       "      <th>6</th>\n",
       "      <th>7</th>\n",
       "      <th>8</th>\n",
       "      <th>9</th>\n",
       "      <th>...</th>\n",
       "      <th>237</th>\n",
       "      <th>238</th>\n",
       "      <th>239</th>\n",
       "      <th>240</th>\n",
       "      <th>241</th>\n",
       "      <th>242</th>\n",
       "      <th>243</th>\n",
       "      <th>244</th>\n",
       "      <th>245</th>\n",
       "      <th>246</th>\n",
       "    </tr>\n",
       "  </thead>\n",
       "  <tbody>\n",
       "    <tr>\n",
       "      <th>0</th>\n",
       "      <td>65.0</td>\n",
       "      <td>8450.0</td>\n",
       "      <td>2003.0</td>\n",
       "      <td>2003.0</td>\n",
       "      <td>196.0</td>\n",
       "      <td>706.0</td>\n",
       "      <td>0.0</td>\n",
       "      <td>150.0</td>\n",
       "      <td>856.0</td>\n",
       "      <td>856.0</td>\n",
       "      <td>...</td>\n",
       "      <td>4.0</td>\n",
       "      <td>8.0</td>\n",
       "      <td>0.0</td>\n",
       "      <td>5.0</td>\n",
       "      <td>2.0</td>\n",
       "      <td>3.0</td>\n",
       "      <td>3.0</td>\n",
       "      <td>3.0</td>\n",
       "      <td>0.0</td>\n",
       "      <td>0.0</td>\n",
       "    </tr>\n",
       "    <tr>\n",
       "      <th>1</th>\n",
       "      <td>80.0</td>\n",
       "      <td>9600.0</td>\n",
       "      <td>1976.0</td>\n",
       "      <td>1976.0</td>\n",
       "      <td>0.0</td>\n",
       "      <td>978.0</td>\n",
       "      <td>0.0</td>\n",
       "      <td>284.0</td>\n",
       "      <td>1262.0</td>\n",
       "      <td>1262.0</td>\n",
       "      <td>...</td>\n",
       "      <td>3.0</td>\n",
       "      <td>8.0</td>\n",
       "      <td>3.0</td>\n",
       "      <td>5.0</td>\n",
       "      <td>2.0</td>\n",
       "      <td>3.0</td>\n",
       "      <td>3.0</td>\n",
       "      <td>3.0</td>\n",
       "      <td>0.0</td>\n",
       "      <td>0.0</td>\n",
       "    </tr>\n",
       "    <tr>\n",
       "      <th>2</th>\n",
       "      <td>68.0</td>\n",
       "      <td>11250.0</td>\n",
       "      <td>2001.0</td>\n",
       "      <td>2002.0</td>\n",
       "      <td>162.0</td>\n",
       "      <td>486.0</td>\n",
       "      <td>0.0</td>\n",
       "      <td>434.0</td>\n",
       "      <td>920.0</td>\n",
       "      <td>920.0</td>\n",
       "      <td>...</td>\n",
       "      <td>4.0</td>\n",
       "      <td>8.0</td>\n",
       "      <td>3.0</td>\n",
       "      <td>5.0</td>\n",
       "      <td>2.0</td>\n",
       "      <td>3.0</td>\n",
       "      <td>3.0</td>\n",
       "      <td>3.0</td>\n",
       "      <td>0.0</td>\n",
       "      <td>0.0</td>\n",
       "    </tr>\n",
       "    <tr>\n",
       "      <th>3</th>\n",
       "      <td>60.0</td>\n",
       "      <td>9550.0</td>\n",
       "      <td>1915.0</td>\n",
       "      <td>1970.0</td>\n",
       "      <td>0.0</td>\n",
       "      <td>216.0</td>\n",
       "      <td>0.0</td>\n",
       "      <td>540.0</td>\n",
       "      <td>756.0</td>\n",
       "      <td>961.0</td>\n",
       "      <td>...</td>\n",
       "      <td>4.0</td>\n",
       "      <td>8.0</td>\n",
       "      <td>4.0</td>\n",
       "      <td>1.0</td>\n",
       "      <td>1.0</td>\n",
       "      <td>3.0</td>\n",
       "      <td>3.0</td>\n",
       "      <td>3.0</td>\n",
       "      <td>0.0</td>\n",
       "      <td>0.0</td>\n",
       "    </tr>\n",
       "    <tr>\n",
       "      <th>4</th>\n",
       "      <td>84.0</td>\n",
       "      <td>14260.0</td>\n",
       "      <td>2000.0</td>\n",
       "      <td>2000.0</td>\n",
       "      <td>350.0</td>\n",
       "      <td>655.0</td>\n",
       "      <td>0.0</td>\n",
       "      <td>490.0</td>\n",
       "      <td>1145.0</td>\n",
       "      <td>1145.0</td>\n",
       "      <td>...</td>\n",
       "      <td>4.0</td>\n",
       "      <td>8.0</td>\n",
       "      <td>3.0</td>\n",
       "      <td>5.0</td>\n",
       "      <td>2.0</td>\n",
       "      <td>3.0</td>\n",
       "      <td>3.0</td>\n",
       "      <td>3.0</td>\n",
       "      <td>0.0</td>\n",
       "      <td>0.0</td>\n",
       "    </tr>\n",
       "  </tbody>\n",
       "</table>\n",
       "<p>5 rows × 247 columns</p>\n",
       "</div>"
      ],
      "text/plain": [
       "    0        1       2       3      4      5    6      7       8       9    \\\n",
       "0  65.0   8450.0  2003.0  2003.0  196.0  706.0  0.0  150.0   856.0   856.0   \n",
       "1  80.0   9600.0  1976.0  1976.0    0.0  978.0  0.0  284.0  1262.0  1262.0   \n",
       "2  68.0  11250.0  2001.0  2002.0  162.0  486.0  0.0  434.0   920.0   920.0   \n",
       "3  60.0   9550.0  1915.0  1970.0    0.0  216.0  0.0  540.0   756.0   961.0   \n",
       "4  84.0  14260.0  2000.0  2000.0  350.0  655.0  0.0  490.0  1145.0  1145.0   \n",
       "\n",
       "   ...  237  238  239  240  241  242  243  244  245  246  \n",
       "0  ...  4.0  8.0  0.0  5.0  2.0  3.0  3.0  3.0  0.0  0.0  \n",
       "1  ...  3.0  8.0  3.0  5.0  2.0  3.0  3.0  3.0  0.0  0.0  \n",
       "2  ...  4.0  8.0  3.0  5.0  2.0  3.0  3.0  3.0  0.0  0.0  \n",
       "3  ...  4.0  8.0  4.0  1.0  1.0  3.0  3.0  3.0  0.0  0.0  \n",
       "4  ...  4.0  8.0  3.0  5.0  2.0  3.0  3.0  3.0  0.0  0.0  \n",
       "\n",
       "[5 rows x 247 columns]"
      ]
     },
     "execution_count": 141,
     "metadata": {},
     "output_type": "execute_result"
    }
   ],
   "source": [
    "#Concatante all rows\n",
    "finalDF = np.concatenate((data.loc[:, data.columns.isin(real_valued_cols)],\n",
    "                          boolTemp,\n",
    "                          catTemp,\n",
    "                          ordTemp\n",
    "                        ), axis = 1)\n",
    "finalDF = pd.DataFrame(finalDF)\n",
    "\n",
    "print(finalDF.shape)\n",
    "print(\"Test to check nan and inf values: \", np.isnan(finalDF).values.sum()+ np.isinf(finalDF).values.sum())\n",
    "finalDF.head()\n",
    "\n"
   ]
  },
  {
   "cell_type": "code",
   "execution_count": 142,
   "metadata": {
    "colab": {
     "base_uri": "https://localhost:8080/",
     "height": 348
    },
    "id": "sdptoq8cvphy",
    "outputId": "353d8b74-d09c-45be-effa-79c628224abf",
    "scrolled": true
   },
   "outputs": [
    {
     "name": "stdout",
     "output_type": "stream",
     "text": [
      "(1460, 247)\n",
      "Test to check nan and inf values:  0\n"
     ]
    },
    {
     "data": {
      "text/html": [
       "<div>\n",
       "<style scoped>\n",
       "    .dataframe tbody tr th:only-of-type {\n",
       "        vertical-align: middle;\n",
       "    }\n",
       "\n",
       "    .dataframe tbody tr th {\n",
       "        vertical-align: top;\n",
       "    }\n",
       "\n",
       "    .dataframe thead th {\n",
       "        text-align: right;\n",
       "    }\n",
       "</style>\n",
       "<table border=\"1\" class=\"dataframe\">\n",
       "  <thead>\n",
       "    <tr style=\"text-align: right;\">\n",
       "      <th></th>\n",
       "      <th>0</th>\n",
       "      <th>1</th>\n",
       "      <th>2</th>\n",
       "      <th>3</th>\n",
       "      <th>4</th>\n",
       "      <th>5</th>\n",
       "      <th>6</th>\n",
       "      <th>7</th>\n",
       "      <th>8</th>\n",
       "      <th>9</th>\n",
       "      <th>...</th>\n",
       "      <th>237</th>\n",
       "      <th>238</th>\n",
       "      <th>239</th>\n",
       "      <th>240</th>\n",
       "      <th>241</th>\n",
       "      <th>242</th>\n",
       "      <th>243</th>\n",
       "      <th>244</th>\n",
       "      <th>245</th>\n",
       "      <th>246</th>\n",
       "    </tr>\n",
       "  </thead>\n",
       "  <tbody>\n",
       "    <tr>\n",
       "      <th>0</th>\n",
       "      <td>0.206837</td>\n",
       "      <td>-0.207050</td>\n",
       "      <td>1.016963</td>\n",
       "      <td>0.837787</td>\n",
       "      <td>0.511100</td>\n",
       "      <td>0.573969</td>\n",
       "      <td>-0.286776</td>\n",
       "      <td>-0.942135</td>\n",
       "      <td>-0.458101</td>\n",
       "      <td>-0.791116</td>\n",
       "      <td>...</td>\n",
       "      <td>0.293526</td>\n",
       "      <td>0.094873</td>\n",
       "      <td>-0.649385</td>\n",
       "      <td>0.506482</td>\n",
       "      <td>0.150170</td>\n",
       "      <td>0.11012</td>\n",
       "      <td>0.111123</td>\n",
       "      <td>0.096109</td>\n",
       "      <td>-0.010808</td>\n",
       "      <td>-0.256638</td>\n",
       "    </tr>\n",
       "    <tr>\n",
       "      <th>1</th>\n",
       "      <td>0.627426</td>\n",
       "      <td>-0.091846</td>\n",
       "      <td>0.151659</td>\n",
       "      <td>-0.409591</td>\n",
       "      <td>-0.567415</td>\n",
       "      <td>1.169028</td>\n",
       "      <td>-0.286776</td>\n",
       "      <td>-0.639561</td>\n",
       "      <td>0.465245</td>\n",
       "      <td>0.256389</td>\n",
       "      <td>...</td>\n",
       "      <td>-0.307523</td>\n",
       "      <td>0.094873</td>\n",
       "      <td>0.417897</td>\n",
       "      <td>0.506482</td>\n",
       "      <td>0.150170</td>\n",
       "      <td>0.11012</td>\n",
       "      <td>0.111123</td>\n",
       "      <td>0.096109</td>\n",
       "      <td>-0.010808</td>\n",
       "      <td>-0.256638</td>\n",
       "    </tr>\n",
       "    <tr>\n",
       "      <th>2</th>\n",
       "      <td>0.290955</td>\n",
       "      <td>0.073447</td>\n",
       "      <td>0.952866</td>\n",
       "      <td>0.791588</td>\n",
       "      <td>0.324011</td>\n",
       "      <td>0.092672</td>\n",
       "      <td>-0.286776</td>\n",
       "      <td>-0.300859</td>\n",
       "      <td>-0.312549</td>\n",
       "      <td>-0.625992</td>\n",
       "      <td>...</td>\n",
       "      <td>0.293526</td>\n",
       "      <td>0.094873</td>\n",
       "      <td>0.417897</td>\n",
       "      <td>0.506482</td>\n",
       "      <td>0.150170</td>\n",
       "      <td>0.11012</td>\n",
       "      <td>0.111123</td>\n",
       "      <td>0.096109</td>\n",
       "      <td>-0.010808</td>\n",
       "      <td>-0.256638</td>\n",
       "    </tr>\n",
       "    <tr>\n",
       "      <th>3</th>\n",
       "      <td>0.066641</td>\n",
       "      <td>-0.096855</td>\n",
       "      <td>-1.803288</td>\n",
       "      <td>-0.686786</td>\n",
       "      <td>-0.567415</td>\n",
       "      <td>-0.498011</td>\n",
       "      <td>-0.286776</td>\n",
       "      <td>-0.061509</td>\n",
       "      <td>-0.685526</td>\n",
       "      <td>-0.520209</td>\n",
       "      <td>...</td>\n",
       "      <td>0.293526</td>\n",
       "      <td>0.094873</td>\n",
       "      <td>0.773658</td>\n",
       "      <td>-0.857214</td>\n",
       "      <td>-0.378139</td>\n",
       "      <td>0.11012</td>\n",
       "      <td>0.111123</td>\n",
       "      <td>0.096109</td>\n",
       "      <td>-0.010808</td>\n",
       "      <td>-0.256638</td>\n",
       "    </tr>\n",
       "    <tr>\n",
       "      <th>4</th>\n",
       "      <td>0.739583</td>\n",
       "      <td>0.374982</td>\n",
       "      <td>0.920818</td>\n",
       "      <td>0.699190</td>\n",
       "      <td>1.358504</td>\n",
       "      <td>0.462396</td>\n",
       "      <td>-0.286776</td>\n",
       "      <td>-0.174410</td>\n",
       "      <td>0.199157</td>\n",
       "      <td>-0.045478</td>\n",
       "      <td>...</td>\n",
       "      <td>0.293526</td>\n",
       "      <td>0.094873</td>\n",
       "      <td>0.417897</td>\n",
       "      <td>0.506482</td>\n",
       "      <td>0.150170</td>\n",
       "      <td>0.11012</td>\n",
       "      <td>0.111123</td>\n",
       "      <td>0.096109</td>\n",
       "      <td>-0.010808</td>\n",
       "      <td>-0.256638</td>\n",
       "    </tr>\n",
       "  </tbody>\n",
       "</table>\n",
       "<p>5 rows × 247 columns</p>\n",
       "</div>"
      ],
      "text/plain": [
       "        0         1         2         3         4         5         6    \\\n",
       "0  0.206837 -0.207050  1.016963  0.837787  0.511100  0.573969 -0.286776   \n",
       "1  0.627426 -0.091846  0.151659 -0.409591 -0.567415  1.169028 -0.286776   \n",
       "2  0.290955  0.073447  0.952866  0.791588  0.324011  0.092672 -0.286776   \n",
       "3  0.066641 -0.096855 -1.803288 -0.686786 -0.567415 -0.498011 -0.286776   \n",
       "4  0.739583  0.374982  0.920818  0.699190  1.358504  0.462396 -0.286776   \n",
       "\n",
       "        7         8         9    ...       237       238       239       240  \\\n",
       "0 -0.942135 -0.458101 -0.791116  ...  0.293526  0.094873 -0.649385  0.506482   \n",
       "1 -0.639561  0.465245  0.256389  ... -0.307523  0.094873  0.417897  0.506482   \n",
       "2 -0.300859 -0.312549 -0.625992  ...  0.293526  0.094873  0.417897  0.506482   \n",
       "3 -0.061509 -0.685526 -0.520209  ...  0.293526  0.094873  0.773658 -0.857214   \n",
       "4 -0.174410  0.199157 -0.045478  ...  0.293526  0.094873  0.417897  0.506482   \n",
       "\n",
       "        241      242       243       244       245       246  \n",
       "0  0.150170  0.11012  0.111123  0.096109 -0.010808 -0.256638  \n",
       "1  0.150170  0.11012  0.111123  0.096109 -0.010808 -0.256638  \n",
       "2  0.150170  0.11012  0.111123  0.096109 -0.010808 -0.256638  \n",
       "3 -0.378139  0.11012  0.111123  0.096109 -0.010808 -0.256638  \n",
       "4  0.150170  0.11012  0.111123  0.096109 -0.010808 -0.256638  \n",
       "\n",
       "[5 rows x 247 columns]"
      ]
     },
     "execution_count": 142,
     "metadata": {},
     "output_type": "execute_result"
    }
   ],
   "source": [
    "#Standarization\n",
    "df_scaled = finalDF\n",
    "for column in df_scaled.columns:\n",
    "    df_scaled[column] = (df_scaled[column] - df_scaled[column].mean()) / (df_scaled[column].std()+1)\n",
    "finalDF = df_scaled\n",
    "\n",
    "print(finalDF.shape)\n",
    "print(\"Test to check nan and inf values: \", np.isnan(finalDF).values.sum()+ np.isinf(finalDF).values.sum())\n",
    "finalDF.head()\n"
   ]
  },
  {
   "cell_type": "markdown",
   "metadata": {
    "id": "ERuw8m4Vvphz"
   },
   "source": [
    "# Models:\n",
    "* Linear Regression\n",
    "* Random Forest\n",
    "* GradientBoostingRegressor\n",
    "* Logistic Regression\n",
    "* PCA w/ Lin Regression\n"
   ]
  },
  {
   "cell_type": "markdown",
   "metadata": {},
   "source": [
    "## Linear Regression"
   ]
  },
  {
   "cell_type": "code",
   "execution_count": 143,
   "metadata": {
    "id": "VI4C469jvphz"
   },
   "outputs": [],
   "source": [
    "def kaggle_error(y_true, y_pred):\n",
    "    return np.sqrt(mean_squared_log_error(y_true, y_pred))"
   ]
  },
  {
   "cell_type": "code",
   "execution_count": 62,
   "metadata": {
    "colab": {
     "base_uri": "https://localhost:8080/",
     "height": 294
    },
    "id": "TxIvEVZmvph0",
    "outputId": "95142139-2456-4b51-9a2c-68099f58f513"
   },
   "outputs": [
    {
     "data": {
      "image/png": "[encoded data removed]",
      "text/plain": [
       "<Figure size 432x288 with 1 Axes>"
      ]
     },
     "metadata": {
      "needs_background": "light"
     },
     "output_type": "display_data"
    }
   ],
   "source": [
    "# Linear Regression\n",
    "y = data['SalePrice']\n",
    "x = finalDF\n",
    "x = sm.add_constant(x)\n",
    "\n",
    "# Model with Linear Regression\n",
    "linModel = sm.OLS(y[:400], x[:400]).fit()\n",
    "\n",
    "#Graph Predict Vs. Actual\n",
    "pred = linModel.predict(x[400:])\n",
    "\n",
    "plt.scatter(pred, y[400:]) \n",
    "plt.xlabel('Predicted')\n",
    "plt.ylabel('Actual')\n",
    "plt.title(\"Prediction Vs. Actual\")\n",
    "plt.plot([0, 700000], [0,700000], color = 'black',  linewidth = 2)\n",
    "plt.show()"
   ]
  },
  {
   "cell_type": "code",
   "execution_count": 157,
   "metadata": {
    "colab": {
     "base_uri": "https://localhost:8080/"
    },
    "id": "2K1q8MnMvph0",
    "outputId": "177b7ce7-339a-436e-f1cc-5b74f042c8b0"
   },
   "outputs": [
    {
     "name": "stdout",
     "output_type": "stream",
     "text": [
      "(1168, 248)\n",
      "10651.896148427393\n",
      "0.27097930020657723\n",
      "(1168, 248)\n",
      "5035.171854407402\n",
      "0.4875647283308169\n",
      "(1168, 248)\n",
      "127.41264759822786\n",
      "0.9984461926765185\n",
      "(1168, 248)\n",
      "4408.025499628743\n",
      "1.2135949668529247\n",
      "(1168, 248)\n",
      "53904.93396413057\n",
      "1.3897399680426037\n",
      "Average Root Log MSE: 0.27794799360852074\n"
     ]
    }
   ],
   "source": [
    "y = data['SalePrice']\n",
    "x = finalDF\n",
    "x = sm.add_constant(x)\n",
    "\n",
    "#Model\n",
    "kf = KFold()\n",
    "error = 0\n",
    "\n",
    "for train_idxs, test_idxs in kf.split(x):\n",
    "    X_train = X.iloc[train_idxs]\n",
    "    Y_train = Y.iloc[train_idxs]\n",
    "    X_test = X.iloc[test_idxs]\n",
    "    Y_test = Y.iloc[test_idxs]\n",
    "\n",
    "    print(X_train.shape)\n",
    "    \n",
    "    linModel = sm.OLS(Y_train, X_train).fit()\n",
    "    preds = abs(linModel.predict(X_test))\n",
    "    print(preds.min())\n",
    "    error += kaggle_error(Y_test, preds)\n",
    "    print(error)\n",
    "    \n",
    "print(\"Average Root Log MSE: {}\".format(error / kf.get_n_splits()))"
   ]
  },
  {
   "cell_type": "markdown",
   "metadata": {},
   "source": [
    "## Random Forest"
   ]
  },
  {
   "cell_type": "code",
   "execution_count": 203,
   "metadata": {
    "colab": {
     "base_uri": "https://localhost:8080/"
    },
    "id": "eJ0DWtIGvph1",
    "outputId": "ed0dee71-d6ca-49b9-8333-8ba68ee7bf39"
   },
   "outputs": [
    {
     "name": "stdout",
     "output_type": "stream",
     "text": [
      "68095.0\n",
      "0.16591628866775557\n",
      "56322.99\n",
      "0.3492975720033017\n",
      "58289.0\n",
      "0.5052139578126422\n",
      "59836.0\n",
      "0.6785233730996449\n",
      "49767.0\n",
      "0.8562702421174768\n",
      "Average Root Log MSE: 0.17125404842349537\n"
     ]
    }
   ],
   "source": [
    "#Random Forest\n",
    "kf = KFold()\n",
    "Y = data['SalePrice']\n",
    "X = finalDF\n",
    "X = sm.add_constant(x)\n",
    "\n",
    "#Model\n",
    "model = RandomForestRegressor()\n",
    "error = 0\n",
    "\n",
    "for train_idxs, test_idxs in kf.split(X):\n",
    "    X_train = X.iloc[train_idxs]\n",
    "    Y_train = Y.iloc[train_idxs]\n",
    "    X_test = X.iloc[test_idxs]\n",
    "    Y_test = Y.iloc[test_idxs]\n",
    "    \n",
    "    model.fit(X_train, Y_train)\n",
    "    preds = model.predict(X_test)\n",
    "    print(preds.min())\n",
    "    error += kaggle_error(Y_test, preds)\n",
    "    print(error)\n",
    "    \n",
    "print(\"Average Root Log MSE: {}\".format(error / kf.get_n_splits()))"
   ]
  },
  {
   "cell_type": "code",
   "execution_count": 219,
   "metadata": {},
   "outputs": [],
   "source": [
    "Y = data['SalePrice']\n",
    "X = finalDF\n",
    "X = sm.add_constant(X)\n",
    "model = RandomForestRegressor()\n",
    "model = RandomForestRegressor().fit(X, Y)\n",
    "\n",
    "importances = model.feature_importances_\n",
    "features = np.arange(0,248)\n"
   ]
  },
  {
   "cell_type": "code",
   "execution_count": 224,
   "metadata": {},
   "outputs": [
    {
     "data": {
      "text/html": [
       "<div>\n",
       "<style scoped>\n",
       "    .dataframe tbody tr th:only-of-type {\n",
       "        vertical-align: middle;\n",
       "    }\n",
       "\n",
       "    .dataframe tbody tr th {\n",
       "        vertical-align: top;\n",
       "    }\n",
       "\n",
       "    .dataframe thead th {\n",
       "        text-align: right;\n",
       "    }\n",
       "</style>\n",
       "<table border=\"1\" class=\"dataframe\">\n",
       "  <thead>\n",
       "    <tr style=\"text-align: right;\">\n",
       "      <th></th>\n",
       "      <th>features</th>\n",
       "      <th>importances</th>\n",
       "    </tr>\n",
       "  </thead>\n",
       "  <tbody>\n",
       "    <tr>\n",
       "      <th>230</th>\n",
       "      <td>230</td>\n",
       "      <td>0.576215</td>\n",
       "    </tr>\n",
       "    <tr>\n",
       "      <th>13</th>\n",
       "      <td>13</td>\n",
       "      <td>0.108476</td>\n",
       "    </tr>\n",
       "    <tr>\n",
       "      <th>11</th>\n",
       "      <td>11</td>\n",
       "      <td>0.038466</td>\n",
       "    </tr>\n",
       "    <tr>\n",
       "      <th>9</th>\n",
       "      <td>9</td>\n",
       "      <td>0.038057</td>\n",
       "    </tr>\n",
       "    <tr>\n",
       "      <th>6</th>\n",
       "      <td>6</td>\n",
       "      <td>0.024958</td>\n",
       "    </tr>\n",
       "  </tbody>\n",
       "</table>\n",
       "</div>"
      ],
      "text/plain": [
       "     features  importances\n",
       "230       230     0.576215\n",
       "13         13     0.108476\n",
       "11         11     0.038466\n",
       "9           9     0.038057\n",
       "6           6     0.024958"
      ]
     },
     "execution_count": 224,
     "metadata": {},
     "output_type": "execute_result"
    }
   ],
   "source": [
    "db = pd.DataFrame()\n",
    "\n",
    "db['features'] = features\n",
    "db['importances'] = importances\n",
    "\n",
    "\n",
    "\n",
    "dfObj1 = db.sort_values(by=['importances'], ascending=False).head()\n",
    "\n",
    "dfObj1"
   ]
  },
  {
   "cell_type": "markdown",
   "metadata": {},
   "source": [
    "## GradientBoostingRegressor"
   ]
  },
  {
   "cell_type": "code",
   "execution_count": 48,
   "metadata": {
    "colab": {
     "base_uri": "https://localhost:8080/"
    },
    "id": "1yFupaHNvph1",
    "outputId": "1203e261-ce41-4643-94c7-30e3a4280f6b"
   },
   "outputs": [
    {
     "name": "stdout",
     "output_type": "stream",
     "text": [
      "71376.2084766914\n",
      "0.12084472805908313\n",
      "54737.75457832226\n",
      "0.2648317638148008\n",
      "44330.36781650645\n",
      "0.3995526338016815\n",
      "42717.29686799425\n",
      "0.5184632613959479\n",
      "59337.28796370255\n",
      "0.6448840915762944\n",
      "Average Root Log MSE: 0.1289768183152589\n"
     ]
    }
   ],
   "source": [
    "#GradientBoostingRegressor\n",
    "y = data['SalePrice']\n",
    "x = finalDF\n",
    "x = sm.add_constant(x)\n",
    "\n",
    "#Model\n",
    "kf = KFold()\n",
    "model = GradientBoostingRegressor()\n",
    "\n",
    "error = 0\n",
    "\n",
    "for train_idxs, test_idxs in kf.split(X):\n",
    "    X_train = X.iloc[train_idxs]\n",
    "    Y_train = Y.iloc[train_idxs]\n",
    "    X_test = X.iloc[test_idxs]\n",
    "    Y_test = Y.iloc[test_idxs]\n",
    "    \n",
    "    model.fit(X_train, Y_train)\n",
    "    preds = model.predict(X_test)\n",
    "    print(preds.min())\n",
    "    error += kaggle_error(Y_test, preds)\n",
    "    print(error)\n",
    "    \n",
    "print(\"Average Root Log MSE: {}\".format(error / kf.get_n_splits()))"
   ]
  },
  {
   "cell_type": "code",
   "execution_count": 49,
   "metadata": {},
   "outputs": [
    {
     "data": {
      "image/png": "[encoded data removed]",
      "text/plain": [
       "<Figure size 432x288 with 1 Axes>"
      ]
     },
     "metadata": {
      "needs_background": "light"
     },
     "output_type": "display_data"
    }
   ],
   "source": [
    "#Graph Predict Vs. Actual\n",
    "pred = model.predict(x[400:])\n",
    "\n",
    "plt.scatter(pred, y[400:]) \n",
    "plt.xlabel('Predicted')\n",
    "plt.ylabel('Actual')\n",
    "plt.title(\"Prediction Vs. Actual\")\n",
    "plt.plot([0, 700000], [0,700000], color = 'black',  linewidth = 2)\n",
    "plt.show()"
   ]
  },
  {
   "cell_type": "markdown",
   "metadata": {},
   "source": [
    "## Logistic Regression"
   ]
  },
  {
   "cell_type": "code",
   "execution_count": 19,
   "metadata": {
    "id": "2U3YTzaXvph2",
    "outputId": "a06e49e2-b519-44d5-df5c-16951f60e426",
    "scrolled": false
   },
   "outputs": [
    {
     "name": "stderr",
     "output_type": "stream",
     "text": [
      "/Users/PhilipAyoub/opt/anaconda3/lib/python3.8/site-packages/sklearn/linear_model/_logistic.py:762: ConvergenceWarning: lbfgs failed to converge (status=1):\n",
      "STOP: TOTAL NO. of ITERATIONS REACHED LIMIT.\n",
      "\n",
      "Increase the number of iterations (max_iter) or scale the data as shown in:\n",
      "    https://scikit-learn.org/stable/modules/preprocessing.html\n",
      "Please also refer to the documentation for alternative solver options:\n",
      "    https://scikit-learn.org/stable/modules/linear_model.html#logistic-regression\n",
      "  n_iter_i = _check_optimize_result(\n"
     ]
    },
    {
     "name": "stdout",
     "output_type": "stream",
     "text": [
      "79900\n",
      "0.22168046846225958\n"
     ]
    },
    {
     "name": "stderr",
     "output_type": "stream",
     "text": [
      "/Users/PhilipAyoub/opt/anaconda3/lib/python3.8/site-packages/sklearn/linear_model/_logistic.py:762: ConvergenceWarning: lbfgs failed to converge (status=1):\n",
      "STOP: TOTAL NO. of ITERATIONS REACHED LIMIT.\n",
      "\n",
      "Increase the number of iterations (max_iter) or scale the data as shown in:\n",
      "    https://scikit-learn.org/stable/modules/preprocessing.html\n",
      "Please also refer to the documentation for alternative solver options:\n",
      "    https://scikit-learn.org/stable/modules/linear_model.html#logistic-regression\n",
      "  n_iter_i = _check_optimize_result(\n"
     ]
    },
    {
     "name": "stdout",
     "output_type": "stream",
     "text": [
      "60000\n",
      "0.4553910001894591\n"
     ]
    },
    {
     "name": "stderr",
     "output_type": "stream",
     "text": [
      "/Users/PhilipAyoub/opt/anaconda3/lib/python3.8/site-packages/sklearn/linear_model/_logistic.py:762: ConvergenceWarning: lbfgs failed to converge (status=1):\n",
      "STOP: TOTAL NO. of ITERATIONS REACHED LIMIT.\n",
      "\n",
      "Increase the number of iterations (max_iter) or scale the data as shown in:\n",
      "    https://scikit-learn.org/stable/modules/preprocessing.html\n",
      "Please also refer to the documentation for alternative solver options:\n",
      "    https://scikit-learn.org/stable/modules/linear_model.html#logistic-regression\n",
      "  n_iter_i = _check_optimize_result(\n"
     ]
    },
    {
     "name": "stdout",
     "output_type": "stream",
     "text": [
      "79000\n",
      "0.6837496401973443\n"
     ]
    },
    {
     "name": "stderr",
     "output_type": "stream",
     "text": [
      "/Users/PhilipAyoub/opt/anaconda3/lib/python3.8/site-packages/sklearn/linear_model/_logistic.py:762: ConvergenceWarning: lbfgs failed to converge (status=1):\n",
      "STOP: TOTAL NO. of ITERATIONS REACHED LIMIT.\n",
      "\n",
      "Increase the number of iterations (max_iter) or scale the data as shown in:\n",
      "    https://scikit-learn.org/stable/modules/preprocessing.html\n",
      "Please also refer to the documentation for alternative solver options:\n",
      "    https://scikit-learn.org/stable/modules/linear_model.html#logistic-regression\n",
      "  n_iter_i = _check_optimize_result(\n"
     ]
    },
    {
     "name": "stdout",
     "output_type": "stream",
     "text": [
      "79000\n",
      "0.891399208085307\n",
      "79900\n",
      "1.120190988656262\n",
      "Average Root Log MSE: 0.2240381977312524\n"
     ]
    },
    {
     "name": "stderr",
     "output_type": "stream",
     "text": [
      "/Users/PhilipAyoub/opt/anaconda3/lib/python3.8/site-packages/sklearn/linear_model/_logistic.py:762: ConvergenceWarning: lbfgs failed to converge (status=1):\n",
      "STOP: TOTAL NO. of ITERATIONS REACHED LIMIT.\n",
      "\n",
      "Increase the number of iterations (max_iter) or scale the data as shown in:\n",
      "    https://scikit-learn.org/stable/modules/preprocessing.html\n",
      "Please also refer to the documentation for alternative solver options:\n",
      "    https://scikit-learn.org/stable/modules/linear_model.html#logistic-regression\n",
      "  n_iter_i = _check_optimize_result(\n"
     ]
    }
   ],
   "source": [
    "#Logistic Regression\n",
    "y = data['SalePrice']\n",
    "x = finalDF\n",
    "x = sm.add_constant(x)\n",
    "\n",
    "#Model\n",
    "kf = KFold()\n",
    "model = LogisticRegression()\n",
    "error = 0\n",
    "\n",
    "for train_idxs, test_idxs in kf.split(X):\n",
    "    X_train = X.iloc[train_idxs]\n",
    "    Y_train = Y.iloc[train_idxs]\n",
    "    X_test = X.iloc[test_idxs]\n",
    "    Y_test = Y.iloc[test_idxs]\n",
    "    \n",
    "    model.fit(X_train, Y_train)\n",
    "    # use abs to prevent negatvie predictions - not sure why this is happening\n",
    "    preds = np.abs(model.predict(X_test))\n",
    "    print(preds.min())\n",
    "    error += kaggle_error(Y_test, preds)\n",
    "    print(error)\n",
    "    \n",
    "print(\"Average Root Log MSE: {}\".format(error / kf.get_n_splits()))\n",
    "    "
   ]
  },
  {
   "cell_type": "markdown",
   "metadata": {},
   "source": [
    "## PCA w/ Lin. Regression"
   ]
  },
  {
   "cell_type": "code",
   "execution_count": 112,
   "metadata": {},
   "outputs": [],
   "source": [
    "from sklearn.decomposition import PCA"
   ]
  },
  {
   "cell_type": "code",
   "execution_count": 119,
   "metadata": {},
   "outputs": [],
   "source": [
    "y = data['SalePrice']\n",
    "x = finalDF\n",
    "x = sm.add_constant(x)\n",
    "\n",
    "pca = PCA(n_components=2)\n",
    "principalComponents = pca.fit_transform(x)\n",
    "principalDf = pd.DataFrame(data = principalComponents, columns = ['principal component 1', 'principal component 2'])"
   ]
  },
  {
   "cell_type": "code",
   "execution_count": 114,
   "metadata": {},
   "outputs": [
    {
     "data": {
      "text/html": [
       "<div>\n",
       "<style scoped>\n",
       "    .dataframe tbody tr th:only-of-type {\n",
       "        vertical-align: middle;\n",
       "    }\n",
       "\n",
       "    .dataframe tbody tr th {\n",
       "        vertical-align: top;\n",
       "    }\n",
       "\n",
       "    .dataframe thead th {\n",
       "        text-align: right;\n",
       "    }\n",
       "</style>\n",
       "<table border=\"1\" class=\"dataframe\">\n",
       "  <thead>\n",
       "    <tr style=\"text-align: right;\">\n",
       "      <th></th>\n",
       "      <th>principal component 1</th>\n",
       "      <th>principal component 2</th>\n",
       "      <th>SalePrice</th>\n",
       "    </tr>\n",
       "  </thead>\n",
       "  <tbody>\n",
       "    <tr>\n",
       "      <th>0</th>\n",
       "      <td>0.977759</td>\n",
       "      <td>0.851259</td>\n",
       "      <td>208500</td>\n",
       "    </tr>\n",
       "    <tr>\n",
       "      <th>1</th>\n",
       "      <td>0.310640</td>\n",
       "      <td>-1.813174</td>\n",
       "      <td>181500</td>\n",
       "    </tr>\n",
       "    <tr>\n",
       "      <th>2</th>\n",
       "      <td>1.343217</td>\n",
       "      <td>0.964770</td>\n",
       "      <td>223500</td>\n",
       "    </tr>\n",
       "    <tr>\n",
       "      <th>3</th>\n",
       "      <td>-1.281699</td>\n",
       "      <td>2.163434</td>\n",
       "      <td>140000</td>\n",
       "    </tr>\n",
       "    <tr>\n",
       "      <th>4</th>\n",
       "      <td>3.419839</td>\n",
       "      <td>1.569379</td>\n",
       "      <td>250000</td>\n",
       "    </tr>\n",
       "    <tr>\n",
       "      <th>...</th>\n",
       "      <td>...</td>\n",
       "      <td>...</td>\n",
       "      <td>...</td>\n",
       "    </tr>\n",
       "    <tr>\n",
       "      <th>1455</th>\n",
       "      <td>0.373945</td>\n",
       "      <td>1.501278</td>\n",
       "      <td>175000</td>\n",
       "    </tr>\n",
       "    <tr>\n",
       "      <th>1456</th>\n",
       "      <td>1.938432</td>\n",
       "      <td>-1.622089</td>\n",
       "      <td>210000</td>\n",
       "    </tr>\n",
       "    <tr>\n",
       "      <th>1457</th>\n",
       "      <td>0.626213</td>\n",
       "      <td>2.526320</td>\n",
       "      <td>266500</td>\n",
       "    </tr>\n",
       "    <tr>\n",
       "      <th>1458</th>\n",
       "      <td>-1.664643</td>\n",
       "      <td>-2.127773</td>\n",
       "      <td>142125</td>\n",
       "    </tr>\n",
       "    <tr>\n",
       "      <th>1459</th>\n",
       "      <td>-0.028374</td>\n",
       "      <td>-2.099083</td>\n",
       "      <td>147500</td>\n",
       "    </tr>\n",
       "  </tbody>\n",
       "</table>\n",
       "<p>1460 rows × 3 columns</p>\n",
       "</div>"
      ],
      "text/plain": [
       "      principal component 1  principal component 2  SalePrice\n",
       "0                  0.977759               0.851259     208500\n",
       "1                  0.310640              -1.813174     181500\n",
       "2                  1.343217               0.964770     223500\n",
       "3                 -1.281699               2.163434     140000\n",
       "4                  3.419839               1.569379     250000\n",
       "...                     ...                    ...        ...\n",
       "1455               0.373945               1.501278     175000\n",
       "1456               1.938432              -1.622089     210000\n",
       "1457               0.626213               2.526320     266500\n",
       "1458              -1.664643              -2.127773     142125\n",
       "1459              -0.028374              -2.099083     147500\n",
       "\n",
       "[1460 rows x 3 columns]"
      ]
     },
     "execution_count": 114,
     "metadata": {},
     "output_type": "execute_result"
    }
   ],
   "source": [
    "pcaDf = pd.concat([principalDf, y], axis = 1)\n",
    "pcaDf"
   ]
  },
  {
   "cell_type": "code",
   "execution_count": 184,
   "metadata": {},
   "outputs": [
    {
     "data": {
      "text/html": [
       "<div>\n",
       "<style scoped>\n",
       "    .dataframe tbody tr th:only-of-type {\n",
       "        vertical-align: middle;\n",
       "    }\n",
       "\n",
       "    .dataframe tbody tr th {\n",
       "        vertical-align: top;\n",
       "    }\n",
       "\n",
       "    .dataframe thead th {\n",
       "        text-align: right;\n",
       "    }\n",
       "</style>\n",
       "<table border=\"1\" class=\"dataframe\">\n",
       "  <thead>\n",
       "    <tr style=\"text-align: right;\">\n",
       "      <th></th>\n",
       "      <th>principal component 1</th>\n",
       "      <th>principal component 2</th>\n",
       "    </tr>\n",
       "  </thead>\n",
       "  <tbody>\n",
       "    <tr>\n",
       "      <th>0</th>\n",
       "      <td>0.977758</td>\n",
       "      <td>0.851117</td>\n",
       "    </tr>\n",
       "    <tr>\n",
       "      <th>1</th>\n",
       "      <td>0.310640</td>\n",
       "      <td>-1.813442</td>\n",
       "    </tr>\n",
       "    <tr>\n",
       "      <th>2</th>\n",
       "      <td>1.343217</td>\n",
       "      <td>0.964478</td>\n",
       "    </tr>\n",
       "    <tr>\n",
       "      <th>3</th>\n",
       "      <td>-1.281700</td>\n",
       "      <td>2.163981</td>\n",
       "    </tr>\n",
       "    <tr>\n",
       "      <th>4</th>\n",
       "      <td>3.419839</td>\n",
       "      <td>1.569244</td>\n",
       "    </tr>\n",
       "    <tr>\n",
       "      <th>...</th>\n",
       "      <td>...</td>\n",
       "      <td>...</td>\n",
       "    </tr>\n",
       "    <tr>\n",
       "      <th>395</th>\n",
       "      <td>-1.203160</td>\n",
       "      <td>-1.599293</td>\n",
       "    </tr>\n",
       "    <tr>\n",
       "      <th>396</th>\n",
       "      <td>-1.327691</td>\n",
       "      <td>-1.738812</td>\n",
       "    </tr>\n",
       "    <tr>\n",
       "      <th>397</th>\n",
       "      <td>-0.291587</td>\n",
       "      <td>1.660315</td>\n",
       "    </tr>\n",
       "    <tr>\n",
       "      <th>398</th>\n",
       "      <td>-3.040804</td>\n",
       "      <td>0.175653</td>\n",
       "    </tr>\n",
       "    <tr>\n",
       "      <th>399</th>\n",
       "      <td>1.223144</td>\n",
       "      <td>-0.005526</td>\n",
       "    </tr>\n",
       "  </tbody>\n",
       "</table>\n",
       "<p>400 rows × 2 columns</p>\n",
       "</div>"
      ],
      "text/plain": [
       "     principal component 1  principal component 2\n",
       "0                 0.977758               0.851117\n",
       "1                 0.310640              -1.813442\n",
       "2                 1.343217               0.964478\n",
       "3                -1.281700               2.163981\n",
       "4                 3.419839               1.569244\n",
       "..                     ...                    ...\n",
       "395              -1.203160              -1.599293\n",
       "396              -1.327691              -1.738812\n",
       "397              -0.291587               1.660315\n",
       "398              -3.040804               0.175653\n",
       "399               1.223144              -0.005526\n",
       "\n",
       "[400 rows x 2 columns]"
      ]
     },
     "execution_count": 184,
     "metadata": {},
     "output_type": "execute_result"
    }
   ],
   "source": [
    "# Model with Linear Regression\n",
    "linModel = sm.OLS(y[:400], principalDf[:400]).fit()\n",
    "\n",
    "#Graph Predict Vs. Actual\n",
    "pred = abs(linModel.predict(principalDf[400:]))\n",
    "\n",
    "kaggle_error(pred, y[400:])\n",
    "\n"
   ]
  },
  {
   "cell_type": "code",
   "execution_count": 194,
   "metadata": {},
   "outputs": [
    {
     "name": "stdout",
     "output_type": "stream",
     "text": [
      "(1168, 3)\n",
      "(1168, 3)\n",
      "(1168, 3)\n",
      "(1168, 3)\n",
      "(1168, 3)\n",
      "Average Root Log MSE: 0.193828518734726\n"
     ]
    }
   ],
   "source": [
    "#PCA\n",
    "y = data['SalePrice']\n",
    "x = principalDf\n",
    "x = sm.add_constant(principalDf)\n",
    "\n",
    "#Model\n",
    "kfl = KFold()\n",
    "error = 0\n",
    "\n",
    "for train_idxs, test_idxs in kfl.split(x):\n",
    "    X_train = x.iloc[train_idxs]\n",
    "    Y_train = y.iloc[train_idxs]\n",
    "    X_test = x.iloc[test_idxs]\n",
    "    Y_test = y.iloc[test_idxs]\n",
    "\n",
    "    print(X_train.shape)\n",
    "    \n",
    "    linModel = sm.OLS(Y_train, X_train).fit()\n",
    "    preds = abs(linModel.predict(X_test))\n",
    "    #print(preds.min())\n",
    "    error += kaggle_error(Y_test, preds)\n",
    "   # print(error)\n",
    "    \n",
    "print(\"Average Root Log MSE: {}\".format(error / kf.get_n_splits()))"
   ]
  },
  {
   "cell_type": "markdown",
   "metadata": {
    "id": "iFliUjjYwaQi"
   },
   "source": [
    "# Model Selection\n",
    "* AutoML\n",
    "\n",
    "* Minimum K-Fold Error\n"
   ]
  },
  {
   "cell_type": "markdown",
   "metadata": {},
   "source": [
    "## AUTOML"
   ]
  },
  {
   "cell_type": "code",
   "execution_count": 44,
   "metadata": {
    "colab": {
     "base_uri": "https://localhost:8080/",
     "height": 1000
    },
    "id": "ZUeyiy2JwZP0",
    "outputId": "9099a6e8-51a7-4e00-9d9f-acba8d3e440d"
   },
   "outputs": [],
   "source": [
    "#AutoML\n",
    "import sys\n",
    "import os\n",
    "import time\n",
    "from datetime import datetime\n",
    "import numpy as np\n",
    "import multiprocessing as mp\n",
    "\n",
    "from sklearn.datasets import load_iris\n",
    "from sklearn.model_selection import train_test_split\n",
    "\n",
    "import autosklearn.classification\n",
    "from autosklearn.metrics import balanced_accuracy"
   ]
  },
  {
   "cell_type": "code",
   "execution_count": 45,
   "metadata": {},
   "outputs": [
    {
     "ename": "ModuleNotFoundError",
     "evalue": "No module named 'auto_learner'",
     "output_type": "error",
     "traceback": [
      "\u001b[0;31m---------------------------------------------------------------------------\u001b[0m",
      "\u001b[0;31mModuleNotFoundError\u001b[0m                       Traceback (most recent call last)",
      "\u001b[0;32m<ipython-input-45-55ac43812162>\u001b[0m in \u001b[0;36m<module>\u001b[0;34m\u001b[0m\n\u001b[1;32m      1\u001b[0m \u001b[0mautoml_path\u001b[0m \u001b[0;34m=\u001b[0m \u001b[0;34m'oboe/automl/'\u001b[0m\u001b[0;34m\u001b[0m\u001b[0;34m\u001b[0m\u001b[0m\n\u001b[1;32m      2\u001b[0m \u001b[0msys\u001b[0m\u001b[0;34m.\u001b[0m\u001b[0mpath\u001b[0m\u001b[0;34m.\u001b[0m\u001b[0mappend\u001b[0m\u001b[0;34m(\u001b[0m\u001b[0mautoml_path\u001b[0m\u001b[0;34m)\u001b[0m\u001b[0;34m\u001b[0m\u001b[0;34m\u001b[0m\u001b[0m\n\u001b[0;32m----> 3\u001b[0;31m \u001b[0;32mfrom\u001b[0m \u001b[0mauto_learner\u001b[0m \u001b[0;32mimport\u001b[0m \u001b[0mAutoLearner\u001b[0m\u001b[0;34m\u001b[0m\u001b[0;34m\u001b[0m\u001b[0m\n\u001b[0m\u001b[1;32m      4\u001b[0m \u001b[0;32mimport\u001b[0m \u001b[0mutil\u001b[0m\u001b[0;34m\u001b[0m\u001b[0;34m\u001b[0m\u001b[0m\n\u001b[1;32m      5\u001b[0m \u001b[0;34m\u001b[0m\u001b[0m\n",
      "\u001b[0;31mModuleNotFoundError\u001b[0m: No module named 'auto_learner'"
     ]
    }
   ],
   "source": [
    "automl_path = 'oboe/automl/'\n",
    "sys.path.append(automl_path).\n",
    "from auto_learner import AutoLearner\n",
    "import util\n",
    "\n",
    "# disable warnings\n",
    "import warnings\n",
    "warnings.filterwarnings('ignore')"
   ]
  },
  {
   "cell_type": "code",
   "execution_count": 39,
   "metadata": {
    "id": "DwgVBjSx0Xt6"
   },
   "outputs": [],
   "source": [
    "include_estimators = [\"adaboost\",\"gaussian_nb\", \"extra_trees\", \"gradient_boosting\", \n",
    "                                 \"liblinear_svc\", \"libsvm_svc\",\"random_forest\",\n",
    "                                 \"k_nearest_neighbors\",\"decision_tree\"]\n",
    "\n",
    "# A wrapper class for the auto-sklearn learner.\n",
    "def AutoSklearn(total_runtime, train_features, train_labels):\n",
    "    clf = autosklearn.classification.AutoSklearnClassifier(\n",
    "            time_left_for_this_task=total_runtime,\n",
    "            tmp_folder='tmp/autosklearn_tmp_'+str(datetime.now()), \n",
    "            output_folder='tmp/autosklearn_output_'+str(datetime.now()),\n",
    "            metric=balanced_accuracy,\n",
    "            include_estimators = include_estimators,\n",
    "    )\n",
    "        \n",
    "    clf.fit(train_features, train_labels)    \n",
    "    return clf"
   ]
  },
  {
   "cell_type": "code",
   "execution_count": 40,
   "metadata": {},
   "outputs": [
    {
     "ename": "TypeError",
     "evalue": "__init__() got an unexpected keyword argument 'output_folder'",
     "output_type": "error",
     "traceback": [
      "\u001b[0;31m---------------------------------------------------------------------------\u001b[0m",
      "\u001b[0;31mTypeError\u001b[0m                                 Traceback (most recent call last)",
      "\u001b[0;32m<ipython-input-40-6af0c17b76d9>\u001b[0m in \u001b[0;36m<module>\u001b[0;34m\u001b[0m\n\u001b[1;32m      4\u001b[0m \u001b[0;34m\u001b[0m\u001b[0m\n\u001b[1;32m      5\u001b[0m \u001b[0mruntime\u001b[0m \u001b[0;34m=\u001b[0m \u001b[0;36m120\u001b[0m\u001b[0;34m\u001b[0m\u001b[0;34m\u001b[0m\u001b[0m\n\u001b[0;32m----> 6\u001b[0;31m \u001b[0mclf\u001b[0m \u001b[0;34m=\u001b[0m \u001b[0mAutoSklearn\u001b[0m\u001b[0;34m(\u001b[0m\u001b[0mruntime\u001b[0m\u001b[0;34m,\u001b[0m \u001b[0mx_train\u001b[0m\u001b[0;34m,\u001b[0m \u001b[0my_train\u001b[0m\u001b[0;34m)\u001b[0m\u001b[0;34m\u001b[0m\u001b[0;34m\u001b[0m\u001b[0m\n\u001b[0m",
      "\u001b[0;32m<ipython-input-39-6e5bfc653a67>\u001b[0m in \u001b[0;36mAutoSklearn\u001b[0;34m(total_runtime, train_features, train_labels)\u001b[0m\n\u001b[1;32m      5\u001b[0m \u001b[0;31m# A wrapper class for the auto-sklearn learner.\u001b[0m\u001b[0;34m\u001b[0m\u001b[0;34m\u001b[0m\u001b[0;34m\u001b[0m\u001b[0m\n\u001b[1;32m      6\u001b[0m \u001b[0;32mdef\u001b[0m \u001b[0mAutoSklearn\u001b[0m\u001b[0;34m(\u001b[0m\u001b[0mtotal_runtime\u001b[0m\u001b[0;34m,\u001b[0m \u001b[0mtrain_features\u001b[0m\u001b[0;34m,\u001b[0m \u001b[0mtrain_labels\u001b[0m\u001b[0;34m)\u001b[0m\u001b[0;34m:\u001b[0m\u001b[0;34m\u001b[0m\u001b[0;34m\u001b[0m\u001b[0m\n\u001b[0;32m----> 7\u001b[0;31m     clf = autosklearn.classification.AutoSklearnClassifier(\n\u001b[0m\u001b[1;32m      8\u001b[0m             \u001b[0mtime_left_for_this_task\u001b[0m\u001b[0;34m=\u001b[0m\u001b[0mtotal_runtime\u001b[0m\u001b[0;34m,\u001b[0m\u001b[0;34m\u001b[0m\u001b[0;34m\u001b[0m\u001b[0m\n\u001b[1;32m      9\u001b[0m             \u001b[0mtmp_folder\u001b[0m\u001b[0;34m=\u001b[0m\u001b[0;34m'tmp/autosklearn_tmp_'\u001b[0m\u001b[0;34m+\u001b[0m\u001b[0mstr\u001b[0m\u001b[0;34m(\u001b[0m\u001b[0mdatetime\u001b[0m\u001b[0;34m.\u001b[0m\u001b[0mnow\u001b[0m\u001b[0;34m(\u001b[0m\u001b[0;34m)\u001b[0m\u001b[0;34m)\u001b[0m\u001b[0;34m,\u001b[0m\u001b[0;34m\u001b[0m\u001b[0;34m\u001b[0m\u001b[0m\n",
      "\u001b[0;31mTypeError\u001b[0m: __init__() got an unexpected keyword argument 'output_folder'"
     ]
    }
   ],
   "source": [
    "x_train = finalDF\n",
    "x_train = sm.add_constant(x)\n",
    "y_train = data['SalePrice']\n",
    "\n",
    "runtime = 120\n",
    "clf = AutoSklearn(runtime, x_train, y_train)"
   ]
  },
  {
   "cell_type": "code",
   "execution_count": 33,
   "metadata": {},
   "outputs": [
    {
     "ename": "NameError",
     "evalue": "name 'clf' is not defined",
     "output_type": "error",
     "traceback": [
      "\u001b[0;31m---------------------------------------------------------------------------\u001b[0m",
      "\u001b[0;31mNameError\u001b[0m                                 Traceback (most recent call last)",
      "\u001b[0;32m<ipython-input-33-650c0dc6660a>\u001b[0m in \u001b[0;36m<module>\u001b[0;34m\u001b[0m\n\u001b[0;32m----> 1\u001b[0;31m \u001b[0mpreds\u001b[0m \u001b[0;34m=\u001b[0m \u001b[0mclf\u001b[0m\u001b[0;34m.\u001b[0m\u001b[0mpredict\u001b[0m\u001b[0;34m(\u001b[0m\u001b[0mx_test\u001b[0m\u001b[0;34m)\u001b[0m\u001b[0;34m\u001b[0m\u001b[0;34m\u001b[0m\u001b[0m\n\u001b[0m\u001b[1;32m      2\u001b[0m \u001b[0merror\u001b[0m \u001b[0;34m+=\u001b[0m \u001b[0mkaggle_error\u001b[0m\u001b[0;34m(\u001b[0m\u001b[0mY_test\u001b[0m\u001b[0;34m,\u001b[0m \u001b[0mpreds\u001b[0m\u001b[0;34m)\u001b[0m\u001b[0;34m\u001b[0m\u001b[0;34m\u001b[0m\u001b[0m\n",
      "\u001b[0;31mNameError\u001b[0m: name 'clf' is not defined"
     ]
    }
   ],
   "source": [
    "preds = clf.predict(x_test)\n",
    "error += kaggle_error(Y_test, preds)"
   ]
  },
  {
   "cell_type": "markdown",
   "metadata": {},
   "source": [
    "## K-FOLD Model Selection"
   ]
  },
  {
   "cell_type": "code",
   "execution_count": 28,
   "metadata": {},
   "outputs": [
    {
     "name": "stderr",
     "output_type": "stream",
     "text": [
      "/Users/PhilipAyoub/opt/anaconda3/lib/python3.8/site-packages/sklearn/linear_model/_logistic.py:763: ConvergenceWarning: lbfgs failed to converge (status=1):\n",
      "STOP: TOTAL NO. of ITERATIONS REACHED LIMIT.\n",
      "\n",
      "Increase the number of iterations (max_iter) or scale the data as shown in:\n",
      "    https://scikit-learn.org/stable/modules/preprocessing.html\n",
      "Please also refer to the documentation for alternative solver options:\n",
      "    https://scikit-learn.org/stable/modules/linear_model.html#logistic-regression\n",
      "  n_iter_i = _check_optimize_result(\n",
      "/Users/PhilipAyoub/opt/anaconda3/lib/python3.8/site-packages/sklearn/linear_model/_logistic.py:763: ConvergenceWarning: lbfgs failed to converge (status=1):\n",
      "STOP: TOTAL NO. of ITERATIONS REACHED LIMIT.\n",
      "\n",
      "Increase the number of iterations (max_iter) or scale the data as shown in:\n",
      "    https://scikit-learn.org/stable/modules/preprocessing.html\n",
      "Please also refer to the documentation for alternative solver options:\n",
      "    https://scikit-learn.org/stable/modules/linear_model.html#logistic-regression\n",
      "  n_iter_i = _check_optimize_result(\n",
      "/Users/PhilipAyoub/opt/anaconda3/lib/python3.8/site-packages/sklearn/linear_model/_logistic.py:763: ConvergenceWarning: lbfgs failed to converge (status=1):\n",
      "STOP: TOTAL NO. of ITERATIONS REACHED LIMIT.\n",
      "\n",
      "Increase the number of iterations (max_iter) or scale the data as shown in:\n",
      "    https://scikit-learn.org/stable/modules/preprocessing.html\n",
      "Please also refer to the documentation for alternative solver options:\n",
      "    https://scikit-learn.org/stable/modules/linear_model.html#logistic-regression\n",
      "  n_iter_i = _check_optimize_result(\n",
      "/Users/PhilipAyoub/opt/anaconda3/lib/python3.8/site-packages/sklearn/linear_model/_logistic.py:763: ConvergenceWarning: lbfgs failed to converge (status=1):\n",
      "STOP: TOTAL NO. of ITERATIONS REACHED LIMIT.\n",
      "\n",
      "Increase the number of iterations (max_iter) or scale the data as shown in:\n",
      "    https://scikit-learn.org/stable/modules/preprocessing.html\n",
      "Please also refer to the documentation for alternative solver options:\n",
      "    https://scikit-learn.org/stable/modules/linear_model.html#logistic-regression\n",
      "  n_iter_i = _check_optimize_result(\n",
      "/Users/PhilipAyoub/opt/anaconda3/lib/python3.8/site-packages/sklearn/linear_model/_logistic.py:763: ConvergenceWarning: lbfgs failed to converge (status=1):\n",
      "STOP: TOTAL NO. of ITERATIONS REACHED LIMIT.\n",
      "\n",
      "Increase the number of iterations (max_iter) or scale the data as shown in:\n",
      "    https://scikit-learn.org/stable/modules/preprocessing.html\n",
      "Please also refer to the documentation for alternative solver options:\n",
      "    https://scikit-learn.org/stable/modules/linear_model.html#logistic-regression\n",
      "  n_iter_i = _check_optimize_result(\n"
     ]
    },
    {
     "name": "stdout",
     "output_type": "stream",
     "text": [
      "GradientBoosting\n",
      "0.12959089116480596\n"
     ]
    }
   ],
   "source": [
    "#Data\n",
    "y = data['SalePrice']\n",
    "x = finalDF\n",
    "x = sm.add_constant(x)\n",
    "\n",
    "#K-Fold Model Selection\n",
    "kf = KFold()\n",
    "min_error = [0,0,0,0]\n",
    "\n",
    "for train_idxs, test_idxs in kf.split(x):\n",
    "    X_train = x.iloc[train_idxs]\n",
    "    Y_train = y.iloc[train_idxs]\n",
    "    X_test = x.iloc[test_idxs]\n",
    "    Y_test = y.iloc[test_idxs]\n",
    "    \n",
    "    #Logistic\n",
    "    logModel = LogisticRegression()\n",
    "    logModel.fit(X_train, Y_train)\n",
    "    preds = np.abs(logModel.predict(X_test))\n",
    "    min_error[0] += kaggle_error(Y_test, preds)\n",
    "   \n",
    "    #GradientBoosting\n",
    "    gradBoostModel = GradientBoostingRegressor()\n",
    "    gradBoostModel.fit(X_train, Y_train)\n",
    "    preds = np.abs(gradBoostModel.predict(X_test))\n",
    "    min_error[1] += kaggle_error(Y_test, preds)\n",
    "    \n",
    "    #Random Forest\n",
    "    randForestModel = RandomForestRegressor()\n",
    "    randForestModel.fit(X_train, Y_train)\n",
    "    preds = np.abs(randForestModel.predict(X_test))\n",
    "    min_error[2] += kaggle_error(Y_test, preds)\n",
    "    \n",
    "    #Linear Model\n",
    "    linModel = sm.OLS(y[:400], x[:400]).fit()\n",
    "    pred = linModel.predict(x[400:])\n",
    "    min_error[3] += kaggle_error(Y_test, preds)\n",
    "    \n",
    "    \n",
    "#Best Model Output\n",
    "splits = kf.get_n_splits()\n",
    "minERR = 1\n",
    "modelName = -1\n",
    "    \n",
    "for i in range(4):\n",
    "    precent = min_error[i]/splits\n",
    "    if(precent< minERR):\n",
    "        minERR = precent\n",
    "        modelName = i\n",
    "\n",
    "if(modelName == 0):\n",
    "    print(\"Logistic\")\n",
    "    print(minERR)\n",
    "elif(modelName == 1):\n",
    "    print(\"GradientBoosting\")\n",
    "    print(minERR)\n",
    "elif(modelName == 2):\n",
    "    print(\"Random Forest\")\n",
    "    print(minERR)\n",
    "else:\n",
    "    print(\"Linear\")\n",
    "    print(minERR)"
   ]
  },
  {
   "cell_type": "markdown",
   "metadata": {
    "id": "z6oAOm_Hvph2"
   },
   "source": [
    "# Insights\n",
    "As we can see above, the basic models perform rather well using one hot encodings for all features. Next steps: process features better to make data well conditioned to improve gradient boosting and handle ordinal values differently - use multi hot instead of one hot encodings or some other ideas. Want to get Root Log MSE down below 0.001 for good model."
   ]
  }
 ],
 "metadata": {
  "colab": {
   "name": "data_exploration.ipynb",
   "provenance": []
  },
  "kernelspec": {
   "display_name": "Python 3",
   "language": "python",
   "name": "python3"
  },
  "language_info": {
   "codemirror_mode": {
    "name": "ipython",
    "version": 3
   },
   "file_extension": ".py",
   "mimetype": "text/x-python",
   "name": "python",
   "nbconvert_exporter": "python",
   "pygments_lexer": "ipython3",
   "version": "3.8.5"
  }
 },
 "nbformat": 4,
 "nbformat_minor": 5
}
